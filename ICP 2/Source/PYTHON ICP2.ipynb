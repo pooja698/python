{
 "cells": [
  {
   "cell_type": "code",
   "execution_count": 1,
   "metadata": {},
   "outputs": [
    {
     "name": "stdout",
     "output_type": "stream",
     "text": [
      "Go vnn"
     ]
    }
   ],
   "source": [
    "def string_alternative():\n",
    "    str = 'Good Evening'\n",
    "    for i in range(0,len(str),2) :\n",
    "        print(str[i], end=\"\")\n",
    "\n",
    "\n",
    "def main():\n",
    "    string_alternative()\n",
    "\n",
    "\n",
    "if __name__ == \"__main__\":\n",
    "    main()"
   ]
  },
  {
   "cell_type": "code",
   "execution_count": 2,
   "metadata": {},
   "outputs": [
    {
     "name": "stdout",
     "output_type": "stream",
     "text": [
      "Enter the size of the list 5\n",
      "\n",
      "\n",
      "Enter the list numbers separated by space 121 133 145 158 189 \n",
      "User List:  [121, 133, 145, 158, 189]\n",
      "[54.884676770000006, 60.32778521, 65.77089365, 71.66759446, 85.72895793]\n"
     ]
    }
   ],
   "source": [
    "n = int(input(\"Enter the size of the list \"))\n",
    "print(\"\\n\")\n",
    "numList = list(int(num) for num in input(\"Enter the list numbers separated by space \").strip().split())[:n]\n",
    "print(\"User List: \", numList)\n",
    "b = []\n",
    "for i in range(0, n):\n",
    "    ele = numList[i] * 0.45359237\n",
    "    b.append(ele)\n",
    "print(b)"
   ]
  },
  {
   "cell_type": "code",
   "execution_count": 3,
   "metadata": {},
   "outputs": [],
   "source": [
    "import sys\n",
    "f = open(\"text.txt\", \"r\")\n",
    "with open('text.txt') as f:\n",
    "    b=[word for line in f for word in line.split()]\n",
    "a = list( dict.fromkeys(b) )\n",
    "sys.stdout = open('text.txt','wt')\n",
    "for i in range(len(a)) :\n",
    "    print(a[i])\n",
    "    print(b.count(b[i]))"
   ]
  },
  {
   "cell_type": "code",
   "execution_count": null,
   "metadata": {},
   "outputs": [],
   "source": []
  }
 ],
 "metadata": {
  "kernelspec": {
   "display_name": "Python 3",
   "language": "python",
   "name": "python3"
  },
  "language_info": {
   "codemirror_mode": {
    "name": "ipython",
    "version": 3
   },
   "file_extension": ".py",
   "mimetype": "text/x-python",
   "name": "python",
   "nbconvert_exporter": "python",
   "pygments_lexer": "ipython3",
   "version": "3.7.6"
  }
 },
 "nbformat": 4,
 "nbformat_minor": 4
}
