{
 "cells": [
  {
   "cell_type": "code",
   "execution_count": 2,
   "metadata": {},
   "outputs": [
    {
     "name": "stdout",
     "output_type": "stream",
     "text": [
      "Empty DataFrame\n",
      "Columns: [Survived, Pclass, Sex, Age, Fare, Embarked]\n",
      "Index: []\n"
     ]
    },
    {
     "data": {
      "text/html": [
       "<div>\n",
       "<style scoped>\n",
       "    .dataframe tbody tr th:only-of-type {\n",
       "        vertical-align: middle;\n",
       "    }\n",
       "\n",
       "    .dataframe tbody tr th {\n",
       "        vertical-align: top;\n",
       "    }\n",
       "\n",
       "    .dataframe thead th {\n",
       "        text-align: right;\n",
       "    }\n",
       "</style>\n",
       "<table border=\"1\" class=\"dataframe\">\n",
       "  <thead>\n",
       "    <tr style=\"text-align: right;\">\n",
       "      <th></th>\n",
       "      <th>Survived</th>\n",
       "      <th>Sex</th>\n",
       "    </tr>\n",
       "  </thead>\n",
       "  <tbody>\n",
       "    <tr>\n",
       "      <th>1</th>\n",
       "      <td>1</td>\n",
       "      <td>0.681287</td>\n",
       "    </tr>\n",
       "    <tr>\n",
       "      <th>0</th>\n",
       "      <td>0</td>\n",
       "      <td>0.147541</td>\n",
       "    </tr>\n",
       "  </tbody>\n",
       "</table>\n",
       "</div>"
      ],
      "text/plain": [
       "   Survived       Sex\n",
       "1         1  0.681287\n",
       "0         0  0.147541"
      ]
     },
     "execution_count": 2,
     "metadata": {},
     "output_type": "execute_result"
    }
   ],
   "source": [
    "import pandas as pd\n",
    "from sklearn.svm import SVC, LinearSVC\n",
    "from sklearn.neighbors import KNeighborsClassifier\n",
    "\n",
    "\n",
    "train_df = pd.read_csv('./train_preprocessed.csv')\n",
    "test_df = pd.read_csv('./test_preprocessed.csv')\n",
    "X_train = train_df.drop(\"Survived\",axis=1)\n",
    "Y_train = train_df[\"Survived\"]\n",
    "X_test = test_df.drop(\"PassengerId\",axis=1).copy()\n",
    "print(train_df[train_df.isnull().any(axis=1)])\n",
    "svc = SVC()\n",
    "svc.fit(X_train, Y_train)\n",
    "Y_pred = svc.predict(X_test)\n",
    "train_df[['Survived','Sex']].groupby(['Survived'],as_index=False).mean().sort_values(by='Sex',ascending=False)\n"
   ]
  },
  {
   "cell_type": "code",
   "execution_count": 3,
   "metadata": {},
   "outputs": [
    {
     "name": "stdout",
     "output_type": "stream",
     "text": [
      "accuracy score: 31.3953488372093\n",
      "              precision    recall  f1-score   support\n",
      "\n",
      "           1       0.33      0.04      0.06        28\n",
      "           2       0.56      0.15      0.24        33\n",
      "           3       0.16      0.73      0.26        11\n",
      "           5       0.20      0.50      0.29         2\n",
      "           6       0.43      1.00      0.60         3\n",
      "           7       0.82      1.00      0.90         9\n",
      "\n",
      "    accuracy                           0.31        86\n",
      "   macro avg       0.42      0.57      0.39        86\n",
      "weighted avg       0.45      0.31      0.27        86\n",
      "\n"
     ]
    }
   ],
   "source": [
    "from sklearn.model_selection import train_test_split\n",
    "from sklearn.naive_bayes import GaussianNB\n",
    "from sklearn.metrics import accuracy_score\n",
    "from sklearn.metrics import classification_report\n",
    "import pandas as pd\n",
    "\n",
    "glass_df = pd.read_csv('./glass.csv')\n",
    "glass_df\n",
    "X_train = glass_df.drop(\"Type\",axis=1)\n",
    "Y_train = glass_df[\"Type\"]\n",
    "\n",
    "X_train, X_test, Y_train, Y_test= train_test_split(X_train, Y_train, test_size=0.4, random_state=0)\n",
    "model = GaussianNB()\n",
    "model.fit(X_train,Y_train)\n",
    "\n",
    "y_pred = model.predict(X_test)\n",
    "\n",
    "\n",
    "score = accuracy_score(Y_test,y_pred)*100\n",
    "print(\"accuracy score: \" + str(score))\n",
    "\n",
    "print(classification_report(Y_test, y_pred))"
   ]
  },
  {
   "cell_type": "code",
   "execution_count": 4,
   "metadata": {},
   "outputs": [
    {
     "name": "stdout",
     "output_type": "stream",
     "text": [
      "accuracy 0.4883720930232558\n",
      "classification_report\n",
      "               precision    recall  f1-score   support\n",
      "\n",
      "           1       0.50      0.64      0.56        11\n",
      "           2       0.44      0.50      0.47        16\n",
      "           3       0.00      0.00      0.00         6\n",
      "           5       0.33      0.50      0.40         2\n",
      "           6       0.00      0.00      0.00         1\n",
      "           7       0.83      0.71      0.77         7\n",
      "\n",
      "    accuracy                           0.49        43\n",
      "   macro avg       0.35      0.39      0.37        43\n",
      "weighted avg       0.44      0.49      0.46        43\n",
      "\n"
     ]
    },
    {
     "name": "stderr",
     "output_type": "stream",
     "text": [
      "C:\\Users\\pooja\\anaconda3\\lib\\site-packages\\sklearn\\metrics\\_classification.py:1272: UndefinedMetricWarning: Precision and F-score are ill-defined and being set to 0.0 in labels with no predicted samples. Use `zero_division` parameter to control this behavior.\n",
      "  _warn_prf(average, modifier, msg_start, len(result))\n"
     ]
    }
   ],
   "source": [
    "import pandas as pd\n",
    "from sklearn import model_selection\n",
    "from sklearn.naive_bayes import GaussianNB\n",
    "from sklearn import metrics\n",
    "from sklearn import svm\n",
    "\n",
    "data=pd.read_csv('./glass.csv')\n",
    "a=data.drop('Type', axis=1)\n",
    "b=data['Type']\n",
    "x_train, x_test, y_train, y_test = model_selection.train_test_split(a, b, test_size=0.2, random_state=20)\n",
    "\n",
    "lc = svm.SVC(kernel=\"linear\")\n",
    "lc.fit(x_train, y_train)\n",
    "y_predict = lc.predict(x_test)\n",
    "print(\"accuracy\", metrics.accuracy_score(y_test, y_predict))\n",
    "print(\"classification_report\\n\",metrics.classification_report(y_test,y_predict))"
   ]
  },
  {
   "cell_type": "code",
   "execution_count": null,
   "metadata": {},
   "outputs": [],
   "source": []
  }
 ],
 "metadata": {
  "kernelspec": {
   "display_name": "Python 3",
   "language": "python",
   "name": "python3"
  },
  "language_info": {
   "codemirror_mode": {
    "name": "ipython",
    "version": 3
   },
   "file_extension": ".py",
   "mimetype": "text/x-python",
   "name": "python",
   "nbconvert_exporter": "python",
   "pygments_lexer": "ipython3",
   "version": "3.7.6"
  }
 },
 "nbformat": 4,
 "nbformat_minor": 4
}
